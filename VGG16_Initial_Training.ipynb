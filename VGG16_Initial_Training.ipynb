{
  "nbformat": 4,
  "nbformat_minor": 0,
  "metadata": {
    "kernelspec": {
      "display_name": "Python 3",
      "language": "python",
      "name": "python3"
    },
    "language_info": {
      "codemirror_mode": {
        "name": "ipython",
        "version": 3
      },
      "file_extension": ".py",
      "mimetype": "text/x-python",
      "name": "python",
      "nbconvert_exporter": "python",
      "pygments_lexer": "ipython3",
      "version": "3.8.3"
    },
    "colab": {
      "name": "VGG16_Initial Training.ipynb",
      "provenance": [],
      "collapsed_sections": []
    },
    "accelerator": "GPU"
  },
  "cells": [
    {
      "cell_type": "markdown",
      "metadata": {
        "id": "SxZshxJ9jWct"
      },
      "source": [
        "# Transfer Learning with VGG16\n",
        "\n",
        "In this notebook, I will go over steps to retrain VGG16 net for the skin cancer dataset."
      ]
    },
    {
      "cell_type": "code",
      "metadata": {
        "id": "H6dpQzfFjWcx"
      },
      "source": [
        "import os\n",
        "from glob import glob\n",
        "\n",
        "import pandas as pd\n",
        "import numpy as np\n",
        "from sklearn.model_selection import train_test_split\n",
        "from keras.utils.np_utils import to_categorical # convert to one-hot-encoding\n",
        "\n",
        "from keras.preprocessing.image import ImageDataGenerator\n",
        "from keras import layers\n",
        "from keras import Model\n",
        "from keras.applications.vgg16 import VGG16, preprocess_input\n",
        "from keras.optimizers import Adam\n",
        "from keras.callbacks import ReduceLROnPlateau, EarlyStopping\n",
        "\n",
        "\n",
        "%matplotlib inline\n",
        "import matplotlib.pyplot as plt"
      ],
      "execution_count": null,
      "outputs": []
    },
    {
      "cell_type": "code",
      "metadata": {
        "colab": {
          "base_uri": "https://localhost:8080/"
        },
        "id": "E2j_VqDajXUC",
        "outputId": "4ad81abd-2a2f-4d58-b93a-43b24df78513"
      },
      "source": [
        "from google.colab import drive\n",
        "drive.mount('/content/drive')\n",
        "!unzip '/content/drive/My Drive/np.zip' -d '/content/'"
      ],
      "execution_count": null,
      "outputs": [
        {
          "output_type": "stream",
          "text": [
            "Mounted at /content/drive\n",
            "Archive:  /content/drive/My Drive/np.zip\n",
            "  inflating: /content/np/256_192_test.npy  \n",
            "  inflating: /content/np/256_192_train.npy  \n",
            "  inflating: /content/np/256_192_val.npy  \n",
            "  inflating: /content/np/test_labels.npy  \n",
            "  inflating: /content/np/train_labels.npy  \n",
            "  inflating: /content/np/val_labels.npy  \n"
          ],
          "name": "stdout"
        }
      ]
    },
    {
      "cell_type": "markdown",
      "metadata": {
        "id": "YQgJi8XnjWcy"
      },
      "source": [
        "## Load in the Dataset"
      ]
    },
    {
      "cell_type": "code",
      "metadata": {
        "id": "d6HODCKNjWcz"
      },
      "source": [
        "X_train = np.load(\"np/256_192_train.npy\")"
      ],
      "execution_count": null,
      "outputs": []
    },
    {
      "cell_type": "code",
      "metadata": {
        "id": "W59VGe39jWcz"
      },
      "source": [
        "y_train = np.load(\"np/train_labels.npy\")"
      ],
      "execution_count": null,
      "outputs": []
    },
    {
      "cell_type": "code",
      "metadata": {
        "id": "YJuIIqptjWcz"
      },
      "source": [
        "X_val = np.load(\"np/256_192_val.npy\")"
      ],
      "execution_count": null,
      "outputs": []
    },
    {
      "cell_type": "code",
      "metadata": {
        "id": "x5E9j8_HjWcz"
      },
      "source": [
        "y_val = np.load(\"np/val_labels.npy\")"
      ],
      "execution_count": null,
      "outputs": []
    },
    {
      "cell_type": "markdown",
      "metadata": {
        "id": "Xq6d0X3SjWc0"
      },
      "source": [
        "## Reshape the Dataset"
      ]
    },
    {
      "cell_type": "code",
      "metadata": {
        "colab": {
          "base_uri": "https://localhost:8080/"
        },
        "id": "CJ7RaYmpjWc0",
        "outputId": "c0f18f8a-bcf7-4672-c5b6-08e127944a0c"
      },
      "source": [
        "X_train.shape, X_val.shape"
      ],
      "execution_count": null,
      "outputs": [
        {
          "output_type": "execute_result",
          "data": {
            "text/plain": [
              "((8111, 192, 256, 3), (902, 192, 256, 3))"
            ]
          },
          "metadata": {
            "tags": []
          },
          "execution_count": 7
        }
      ]
    },
    {
      "cell_type": "code",
      "metadata": {
        "colab": {
          "base_uri": "https://localhost:8080/"
        },
        "id": "EQ5dcRQejWc0",
        "outputId": "adb2314b-7679-4918-d4ea-62cec06aecaf"
      },
      "source": [
        "y_train.shape, y_val.shape"
      ],
      "execution_count": null,
      "outputs": [
        {
          "output_type": "execute_result",
          "data": {
            "text/plain": [
              "((8111,), (902,))"
            ]
          },
          "metadata": {
            "tags": []
          },
          "execution_count": 8
        }
      ]
    },
    {
      "cell_type": "code",
      "metadata": {
        "id": "kWmDw-hajWc0"
      },
      "source": [
        "y_train = to_categorical(y_train)\n",
        "y_val = to_categorical(y_val)"
      ],
      "execution_count": null,
      "outputs": []
    },
    {
      "cell_type": "code",
      "metadata": {
        "colab": {
          "base_uri": "https://localhost:8080/"
        },
        "id": "BIoa6oWLjWc1",
        "outputId": "197114ea-bdca-418c-f4d2-76cb03dc4973"
      },
      "source": [
        "y_train.shape, y_val.shape"
      ],
      "execution_count": null,
      "outputs": [
        {
          "output_type": "execute_result",
          "data": {
            "text/plain": [
              "((8111, 7), (902, 7))"
            ]
          },
          "metadata": {
            "tags": []
          },
          "execution_count": 10
        }
      ]
    },
    {
      "cell_type": "markdown",
      "metadata": {
        "id": "cz5J2NtBjWc1"
      },
      "source": [
        "## Load in Pretrained VGG16 Model"
      ]
    },
    {
      "cell_type": "code",
      "metadata": {
        "colab": {
          "base_uri": "https://localhost:8080/"
        },
        "id": "M9jsqLZmjWc1",
        "outputId": "f52543a6-f8d5-4616-c985-a7d5e3907883"
      },
      "source": [
        "pre_trained_model = VGG16(input_shape=(192, 256, 3), include_top=False, weights=\"imagenet\")"
      ],
      "execution_count": null,
      "outputs": [
        {
          "output_type": "stream",
          "text": [
            "Downloading data from https://storage.googleapis.com/tensorflow/keras-applications/vgg16/vgg16_weights_tf_dim_ordering_tf_kernels_notop.h5\n",
            "58892288/58889256 [==============================] - 0s 0us/step\n"
          ],
          "name": "stdout"
        }
      ]
    },
    {
      "cell_type": "code",
      "metadata": {
        "colab": {
          "base_uri": "https://localhost:8080/"
        },
        "id": "r1LLD_D-jWc1",
        "outputId": "6b1d77ee-7d5e-4e21-f6a4-079509567eb8"
      },
      "source": [
        "for layer in pre_trained_model.layers:\n",
        "    print(layer.name)\n",
        "    layer.trainable = False\n",
        "    \n",
        "print(len(pre_trained_model.layers))"
      ],
      "execution_count": null,
      "outputs": [
        {
          "output_type": "stream",
          "text": [
            "input_1\n",
            "block1_conv1\n",
            "block1_conv2\n",
            "block1_pool\n",
            "block2_conv1\n",
            "block2_conv2\n",
            "block2_pool\n",
            "block3_conv1\n",
            "block3_conv2\n",
            "block3_conv3\n",
            "block3_pool\n",
            "block4_conv1\n",
            "block4_conv2\n",
            "block4_conv3\n",
            "block4_pool\n",
            "block5_conv1\n",
            "block5_conv2\n",
            "block5_conv3\n",
            "block5_pool\n",
            "19\n"
          ],
          "name": "stdout"
        }
      ]
    },
    {
      "cell_type": "code",
      "metadata": {
        "colab": {
          "base_uri": "https://localhost:8080/"
        },
        "id": "oJ5J_ozMjWc1",
        "outputId": "0ee7bdd6-0c8b-477c-f951-60bd1ba7796b"
      },
      "source": [
        "last_layer = pre_trained_model.get_layer('block5_pool')\n",
        "print('last layer output shape:', last_layer.output_shape)\n",
        "last_output = last_layer.output"
      ],
      "execution_count": null,
      "outputs": [
        {
          "output_type": "stream",
          "text": [
            "last layer output shape: (None, 6, 8, 512)\n"
          ],
          "name": "stdout"
        }
      ]
    },
    {
      "cell_type": "markdown",
      "metadata": {
        "id": "NneWTIWCjWc2"
      },
      "source": [
        "## Define the Model"
      ]
    },
    {
      "cell_type": "code",
      "metadata": {
        "id": "ncl33AVZjWc2"
      },
      "source": [
        "# Flatten the output layer to 1 dimension\n",
        "x = layers.GlobalMaxPooling2D()(last_output)\n",
        "# Add a fully connected layer with 512 hidden units and ReLU activation\n",
        "x = layers.Dense(512, activation='relu')(x)\n",
        "# Add a dropout rate of 0.5\n",
        "x = layers.Dropout(0.5)(x)\n",
        "# Add a final sigmoid layer for classification\n",
        "x = layers.Dense(7, activation='softmax')(x)\n",
        "\n",
        "# Configure and compile the model\n",
        "\n",
        "model = Model(pre_trained_model.input, x)\n",
        "optimizer = Adam(lr=0.0001, beta_1=0.9, beta_2=0.999, epsilon=None, decay=0.0, amsgrad=True)\n",
        "model.compile(loss='categorical_crossentropy',\n",
        "              optimizer=optimizer,\n",
        "              metrics=['accuracy'])"
      ],
      "execution_count": null,
      "outputs": []
    },
    {
      "cell_type": "code",
      "metadata": {
        "colab": {
          "base_uri": "https://localhost:8080/"
        },
        "id": "WO03G3yFjWc2",
        "outputId": "09ccbbee-ce02-40c3-849c-b00a0e5b0a21"
      },
      "source": [
        "model.summary()"
      ],
      "execution_count": null,
      "outputs": [
        {
          "output_type": "stream",
          "text": [
            "Model: \"model\"\n",
            "_________________________________________________________________\n",
            "Layer (type)                 Output Shape              Param #   \n",
            "=================================================================\n",
            "input_1 (InputLayer)         [(None, 192, 256, 3)]     0         \n",
            "_________________________________________________________________\n",
            "block1_conv1 (Conv2D)        (None, 192, 256, 64)      1792      \n",
            "_________________________________________________________________\n",
            "block1_conv2 (Conv2D)        (None, 192, 256, 64)      36928     \n",
            "_________________________________________________________________\n",
            "block1_pool (MaxPooling2D)   (None, 96, 128, 64)       0         \n",
            "_________________________________________________________________\n",
            "block2_conv1 (Conv2D)        (None, 96, 128, 128)      73856     \n",
            "_________________________________________________________________\n",
            "block2_conv2 (Conv2D)        (None, 96, 128, 128)      147584    \n",
            "_________________________________________________________________\n",
            "block2_pool (MaxPooling2D)   (None, 48, 64, 128)       0         \n",
            "_________________________________________________________________\n",
            "block3_conv1 (Conv2D)        (None, 48, 64, 256)       295168    \n",
            "_________________________________________________________________\n",
            "block3_conv2 (Conv2D)        (None, 48, 64, 256)       590080    \n",
            "_________________________________________________________________\n",
            "block3_conv3 (Conv2D)        (None, 48, 64, 256)       590080    \n",
            "_________________________________________________________________\n",
            "block3_pool (MaxPooling2D)   (None, 24, 32, 256)       0         \n",
            "_________________________________________________________________\n",
            "block4_conv1 (Conv2D)        (None, 24, 32, 512)       1180160   \n",
            "_________________________________________________________________\n",
            "block4_conv2 (Conv2D)        (None, 24, 32, 512)       2359808   \n",
            "_________________________________________________________________\n",
            "block4_conv3 (Conv2D)        (None, 24, 32, 512)       2359808   \n",
            "_________________________________________________________________\n",
            "block4_pool (MaxPooling2D)   (None, 12, 16, 512)       0         \n",
            "_________________________________________________________________\n",
            "block5_conv1 (Conv2D)        (None, 12, 16, 512)       2359808   \n",
            "_________________________________________________________________\n",
            "block5_conv2 (Conv2D)        (None, 12, 16, 512)       2359808   \n",
            "_________________________________________________________________\n",
            "block5_conv3 (Conv2D)        (None, 12, 16, 512)       2359808   \n",
            "_________________________________________________________________\n",
            "block5_pool (MaxPooling2D)   (None, 6, 8, 512)         0         \n",
            "_________________________________________________________________\n",
            "global_max_pooling2d (Global (None, 512)               0         \n",
            "_________________________________________________________________\n",
            "dense (Dense)                (None, 512)               262656    \n",
            "_________________________________________________________________\n",
            "dropout (Dropout)            (None, 512)               0         \n",
            "_________________________________________________________________\n",
            "dense_1 (Dense)              (None, 7)                 3591      \n",
            "=================================================================\n",
            "Total params: 14,980,935\n",
            "Trainable params: 266,247\n",
            "Non-trainable params: 14,714,688\n",
            "_________________________________________________________________\n"
          ],
          "name": "stdout"
        }
      ]
    },
    {
      "cell_type": "markdown",
      "metadata": {
        "id": "LDrd2ZagjWc2"
      },
      "source": [
        "## Training"
      ]
    },
    {
      "cell_type": "markdown",
      "metadata": {
        "id": "TxiAyE2QjWc2"
      },
      "source": [
        "### Feature-Extraction\n",
        "\n",
        "If performing fine tuning directly would result in a huge gradient, so it's better that we perform 3 epochs of feature extraction first so that weights of the final fully connected layer aren't completely random. The intuition for this is that if we don't perform feature-extraction, then the gradient will be too large and will change the pretrained weights too much."
      ]
    },
    {
      "cell_type": "code",
      "metadata": {
        "id": "G1JkEjXIjWc3"
      },
      "source": [
        "train_datagen = ImageDataGenerator(rotation_range=60, width_shift_range=0.2, height_shift_range=0.2,\n",
        "                                   shear_range=0.2, zoom_range=0.2, fill_mode='nearest')\n",
        "\n",
        "train_datagen.fit(X_train)\n",
        "\n",
        "val_datagen = ImageDataGenerator()\n",
        "val_datagen.fit(X_val)"
      ],
      "execution_count": null,
      "outputs": []
    },
    {
      "cell_type": "code",
      "metadata": {
        "colab": {
          "base_uri": "https://localhost:8080/"
        },
        "id": "IweqReYJjWc3",
        "outputId": "5d0096f0-95a2-42fe-c8e2-620ebb4c9fa5"
      },
      "source": [
        "batch_size = 64\n",
        "epochs = 3\n",
        "history = model.fit_generator(train_datagen.flow(X_train,y_train, batch_size=batch_size),\n",
        "                              epochs = epochs, validation_data = val_datagen.flow(X_val, y_val),\n",
        "                              verbose = 1, steps_per_epoch=(X_train.shape[0] // batch_size), \n",
        "                              validation_steps=(X_val.shape[0] // batch_size))"
      ],
      "execution_count": null,
      "outputs": [
        {
          "output_type": "stream",
          "text": [
            "/usr/local/lib/python3.7/dist-packages/tensorflow/python/keras/engine/training.py:1844: UserWarning: `Model.fit_generator` is deprecated and will be removed in a future version. Please use `Model.fit`, which supports generators.\n",
            "  warnings.warn('`Model.fit_generator` is deprecated and '\n"
          ],
          "name": "stderr"
        },
        {
          "output_type": "stream",
          "text": [
            "Epoch 1/3\n",
            "126/126 [==============================] - 148s 810ms/step - loss: 1.3867 - accuracy: 0.5664 - val_loss: 1.0319 - val_accuracy: 0.6763\n",
            "Epoch 2/3\n",
            "126/126 [==============================] - 89s 708ms/step - loss: 1.0949 - accuracy: 0.6602 - val_loss: 1.0574 - val_accuracy: 0.6451\n",
            "Epoch 3/3\n",
            "126/126 [==============================] - 89s 708ms/step - loss: 1.0188 - accuracy: 0.6718 - val_loss: 0.9430 - val_accuracy: 0.6786\n"
          ],
          "name": "stdout"
        }
      ]
    },
    {
      "cell_type": "markdown",
      "metadata": {
        "id": "JKkrf8IGjWc3"
      },
      "source": [
        "### Fine Tuning Model"
      ]
    },
    {
      "cell_type": "markdown",
      "metadata": {
        "id": "IpWqeoUEjWc3"
      },
      "source": [
        "Let's fine tune the last convolutional block of VGG net. I only use learning_rate = 0.0001 with very high momentum = 0.9 and train for 35 epochs only so that the original weights of pretrained VGG net won't be changed too much. learning_rate_reduction function is used and will halve the learning_rate whenever the validation accuracy plateaus for 3 epochs. "
      ]
    },
    {
      "cell_type": "code",
      "metadata": {
        "id": "LjvSqqqojWc3"
      },
      "source": [
        "for layer in model.layers:\n",
        "    layer.trainable = True"
      ],
      "execution_count": null,
      "outputs": []
    },
    {
      "cell_type": "code",
      "metadata": {
        "id": "-jow53SsjWc4"
      },
      "source": [
        "optimizer = Adam(lr=0.0001, beta_1=0.9, beta_2=0.999, epsilon=None, decay=0.0, amsgrad=False)\n",
        "model.compile(loss='categorical_crossentropy',\n",
        "              optimizer=optimizer,\n",
        "              metrics=['acc'])"
      ],
      "execution_count": null,
      "outputs": []
    },
    {
      "cell_type": "code",
      "metadata": {
        "colab": {
          "base_uri": "https://localhost:8080/"
        },
        "id": "hrl8zyIyjWc4",
        "outputId": "05929aac-c28b-406c-c3ac-e5a8428e4a9c"
      },
      "source": [
        "model.summary()"
      ],
      "execution_count": null,
      "outputs": [
        {
          "output_type": "stream",
          "text": [
            "Model: \"model\"\n",
            "_________________________________________________________________\n",
            "Layer (type)                 Output Shape              Param #   \n",
            "=================================================================\n",
            "input_1 (InputLayer)         [(None, 192, 256, 3)]     0         \n",
            "_________________________________________________________________\n",
            "block1_conv1 (Conv2D)        (None, 192, 256, 64)      1792      \n",
            "_________________________________________________________________\n",
            "block1_conv2 (Conv2D)        (None, 192, 256, 64)      36928     \n",
            "_________________________________________________________________\n",
            "block1_pool (MaxPooling2D)   (None, 96, 128, 64)       0         \n",
            "_________________________________________________________________\n",
            "block2_conv1 (Conv2D)        (None, 96, 128, 128)      73856     \n",
            "_________________________________________________________________\n",
            "block2_conv2 (Conv2D)        (None, 96, 128, 128)      147584    \n",
            "_________________________________________________________________\n",
            "block2_pool (MaxPooling2D)   (None, 48, 64, 128)       0         \n",
            "_________________________________________________________________\n",
            "block3_conv1 (Conv2D)        (None, 48, 64, 256)       295168    \n",
            "_________________________________________________________________\n",
            "block3_conv2 (Conv2D)        (None, 48, 64, 256)       590080    \n",
            "_________________________________________________________________\n",
            "block3_conv3 (Conv2D)        (None, 48, 64, 256)       590080    \n",
            "_________________________________________________________________\n",
            "block3_pool (MaxPooling2D)   (None, 24, 32, 256)       0         \n",
            "_________________________________________________________________\n",
            "block4_conv1 (Conv2D)        (None, 24, 32, 512)       1180160   \n",
            "_________________________________________________________________\n",
            "block4_conv2 (Conv2D)        (None, 24, 32, 512)       2359808   \n",
            "_________________________________________________________________\n",
            "block4_conv3 (Conv2D)        (None, 24, 32, 512)       2359808   \n",
            "_________________________________________________________________\n",
            "block4_pool (MaxPooling2D)   (None, 12, 16, 512)       0         \n",
            "_________________________________________________________________\n",
            "block5_conv1 (Conv2D)        (None, 12, 16, 512)       2359808   \n",
            "_________________________________________________________________\n",
            "block5_conv2 (Conv2D)        (None, 12, 16, 512)       2359808   \n",
            "_________________________________________________________________\n",
            "block5_conv3 (Conv2D)        (None, 12, 16, 512)       2359808   \n",
            "_________________________________________________________________\n",
            "block5_pool (MaxPooling2D)   (None, 6, 8, 512)         0         \n",
            "_________________________________________________________________\n",
            "global_max_pooling2d (Global (None, 512)               0         \n",
            "_________________________________________________________________\n",
            "dense (Dense)                (None, 512)               262656    \n",
            "_________________________________________________________________\n",
            "dropout (Dropout)            (None, 512)               0         \n",
            "_________________________________________________________________\n",
            "dense_1 (Dense)              (None, 7)                 3591      \n",
            "=================================================================\n",
            "Total params: 14,980,935\n",
            "Trainable params: 14,980,935\n",
            "Non-trainable params: 0\n",
            "_________________________________________________________________\n"
          ],
          "name": "stdout"
        }
      ]
    },
    {
      "cell_type": "markdown",
      "metadata": {
        "id": "wY1GVPZKjWc4"
      },
      "source": [
        "By setting the last convolutional block to trainable, we are now retraining for half of the hyperparameters"
      ]
    },
    {
      "cell_type": "code",
      "metadata": {
        "id": "temGwbGSjWc4"
      },
      "source": [
        "learning_rate_reduction = ReduceLROnPlateau(monitor='val_acc', patience=3, verbose=1, factor=0.5, \n",
        "                                            min_lr=0.000001, cooldown=3)"
      ],
      "execution_count": null,
      "outputs": []
    },
    {
      "cell_type": "code",
      "metadata": {
        "colab": {
          "base_uri": "https://localhost:8080/"
        },
        "id": "cWT7aIwKjWc4",
        "outputId": "60c631d1-d501-4750-e09c-423d19ddc723"
      },
      "source": [
        "batch_size = 64\n",
        "epochs = 30\n",
        "history = model.fit_generator(train_datagen.flow(X_train,y_train, batch_size=batch_size),\n",
        "                              epochs = epochs, validation_data = val_datagen.flow(X_val, y_val),\n",
        "                              verbose = 1, steps_per_epoch=(X_train.shape[0] // batch_size),\n",
        "                              validation_steps=(X_val.shape[0] // batch_size), callbacks=[learning_rate_reduction])"
      ],
      "execution_count": null,
      "outputs": [
        {
          "output_type": "stream",
          "text": [
            "/usr/local/lib/python3.7/dist-packages/tensorflow/python/keras/engine/training.py:1844: UserWarning: `Model.fit_generator` is deprecated and will be removed in a future version. Please use `Model.fit`, which supports generators.\n",
            "  warnings.warn('`Model.fit_generator` is deprecated and '\n"
          ],
          "name": "stderr"
        },
        {
          "output_type": "stream",
          "text": [
            "Epoch 1/30\n",
            "126/126 [==============================] - 131s 977ms/step - loss: 1.0103 - acc: 0.6782 - val_loss: 0.8063 - val_acc: 0.6853\n",
            "Epoch 2/30\n",
            "126/126 [==============================] - 118s 936ms/step - loss: 0.7837 - acc: 0.7172 - val_loss: 0.7504 - val_acc: 0.7433\n",
            "Epoch 3/30\n",
            "126/126 [==============================] - 118s 935ms/step - loss: 0.7147 - acc: 0.7350 - val_loss: 0.6834 - val_acc: 0.7567\n",
            "Epoch 4/30\n",
            "126/126 [==============================] - 119s 937ms/step - loss: 0.6185 - acc: 0.7777 - val_loss: 0.7217 - val_acc: 0.7321\n",
            "Epoch 5/30\n",
            "126/126 [==============================] - 118s 935ms/step - loss: 0.6045 - acc: 0.7800 - val_loss: 0.6107 - val_acc: 0.7589\n",
            "Epoch 6/30\n",
            "126/126 [==============================] - 118s 935ms/step - loss: 0.5736 - acc: 0.7883 - val_loss: 0.6851 - val_acc: 0.7522\n",
            "Epoch 7/30\n",
            "126/126 [==============================] - 118s 933ms/step - loss: 0.5548 - acc: 0.7985 - val_loss: 0.5288 - val_acc: 0.8080\n",
            "Epoch 8/30\n",
            "126/126 [==============================] - 118s 933ms/step - loss: 0.4971 - acc: 0.8171 - val_loss: 0.6945 - val_acc: 0.7567\n",
            "Epoch 9/30\n",
            "126/126 [==============================] - 118s 933ms/step - loss: 0.4975 - acc: 0.8150 - val_loss: 0.6012 - val_acc: 0.7857\n",
            "Epoch 10/30\n",
            "126/126 [==============================] - 118s 933ms/step - loss: 0.4457 - acc: 0.8324 - val_loss: 0.4829 - val_acc: 0.8013\n",
            "\n",
            "Epoch 00010: ReduceLROnPlateau reducing learning rate to 4.999999873689376e-05.\n",
            "Epoch 11/30\n",
            "126/126 [==============================] - 118s 931ms/step - loss: 0.3680 - acc: 0.8668 - val_loss: 0.5288 - val_acc: 0.8147\n",
            "Epoch 12/30\n",
            "126/126 [==============================] - 118s 932ms/step - loss: 0.3435 - acc: 0.8715 - val_loss: 0.5110 - val_acc: 0.8192\n",
            "Epoch 13/30\n",
            "126/126 [==============================] - 118s 933ms/step - loss: 0.3018 - acc: 0.8914 - val_loss: 0.4526 - val_acc: 0.8348\n",
            "Epoch 14/30\n",
            "126/126 [==============================] - 118s 937ms/step - loss: 0.2675 - acc: 0.9000 - val_loss: 0.4641 - val_acc: 0.8438\n",
            "Epoch 15/30\n",
            "126/126 [==============================] - 118s 936ms/step - loss: 0.2758 - acc: 0.9012 - val_loss: 0.5673 - val_acc: 0.8058\n",
            "Epoch 16/30\n",
            "126/126 [==============================] - 120s 949ms/step - loss: 0.2669 - acc: 0.8987 - val_loss: 0.4375 - val_acc: 0.8237\n",
            "Epoch 17/30\n",
            "126/126 [==============================] - 118s 936ms/step - loss: 0.2215 - acc: 0.9205 - val_loss: 0.5102 - val_acc: 0.8304\n",
            "\n",
            "Epoch 00017: ReduceLROnPlateau reducing learning rate to 2.499999936844688e-05.\n",
            "Epoch 18/30\n",
            "126/126 [==============================] - 118s 934ms/step - loss: 0.1713 - acc: 0.9387 - val_loss: 0.4780 - val_acc: 0.8504\n",
            "Epoch 19/30\n",
            "126/126 [==============================] - 118s 936ms/step - loss: 0.1382 - acc: 0.9497 - val_loss: 0.4943 - val_acc: 0.8638\n",
            "Epoch 20/30\n",
            "126/126 [==============================] - 118s 936ms/step - loss: 0.1310 - acc: 0.9515 - val_loss: 0.5293 - val_acc: 0.8527\n",
            "Epoch 21/30\n",
            "126/126 [==============================] - 118s 936ms/step - loss: 0.1332 - acc: 0.9472 - val_loss: 0.5934 - val_acc: 0.8393\n",
            "Epoch 22/30\n",
            "126/126 [==============================] - 119s 938ms/step - loss: 0.0990 - acc: 0.9658 - val_loss: 0.6140 - val_acc: 0.8482\n",
            "\n",
            "Epoch 00022: ReduceLROnPlateau reducing learning rate to 1.249999968422344e-05.\n",
            "Epoch 23/30\n",
            "126/126 [==============================] - 120s 945ms/step - loss: 0.0835 - acc: 0.9705 - val_loss: 0.6059 - val_acc: 0.8438\n",
            "Epoch 24/30\n",
            "126/126 [==============================] - 119s 944ms/step - loss: 0.0728 - acc: 0.9761 - val_loss: 0.6575 - val_acc: 0.8460\n",
            "Epoch 25/30\n",
            "126/126 [==============================] - 120s 947ms/step - loss: 0.0578 - acc: 0.9798 - val_loss: 0.7831 - val_acc: 0.8237\n",
            "Epoch 26/30\n",
            "126/126 [==============================] - 120s 947ms/step - loss: 0.0608 - acc: 0.9778 - val_loss: 0.5379 - val_acc: 0.8705\n",
            "Epoch 27/30\n",
            "126/126 [==============================] - 120s 948ms/step - loss: 0.0483 - acc: 0.9819 - val_loss: 0.6208 - val_acc: 0.8438\n",
            "Epoch 28/30\n",
            "126/126 [==============================] - 119s 944ms/step - loss: 0.0509 - acc: 0.9807 - val_loss: 0.5785 - val_acc: 0.8661\n",
            "Epoch 29/30\n",
            "126/126 [==============================] - 119s 943ms/step - loss: 0.0495 - acc: 0.9850 - val_loss: 0.6346 - val_acc: 0.8594\n",
            "\n",
            "Epoch 00029: ReduceLROnPlateau reducing learning rate to 6.24999984211172e-06.\n",
            "Epoch 30/30\n",
            "126/126 [==============================] - 119s 945ms/step - loss: 0.0344 - acc: 0.9889 - val_loss: 0.6280 - val_acc: 0.8661\n"
          ],
          "name": "stdout"
        }
      ]
    },
    {
      "cell_type": "code",
      "metadata": {
        "colab": {
          "base_uri": "https://localhost:8080/"
        },
        "id": "OcluMQiNjWc5",
        "outputId": "acb2ea47-b35f-4cdc-b94c-93b6698919da"
      },
      "source": [
        "loss_val, acc_val = model.evaluate(X_val, y_val, verbose=1)\n",
        "print(\"Validation: accuracy = %f  ;  loss_v = %f\" % (acc_val, loss_val))"
      ],
      "execution_count": null,
      "outputs": [
        {
          "output_type": "stream",
          "text": [
            "29/29 [==============================] - 5s 178ms/step - loss: 0.6920 - acc: 0.8592\n",
            "Validation: accuracy = 0.859202  ;  loss_v = 0.691962\n"
          ],
          "name": "stdout"
        }
      ]
    },
    {
      "cell_type": "markdown",
      "metadata": {
        "id": "AGGYV78mjWc5"
      },
      "source": [
        "Our model clearly overfits the training dataset. But we do observe some improvement with validation accuracy, which is clearly better than the baseline model! Having around 3% improvement from the baseline model justifies some more training time. This improvement proves that weights of pretrained model learned from ImageNet generalize to our dataset, which is completely different from ImageNet. "
      ]
    },
    {
      "cell_type": "markdown",
      "metadata": {
        "id": "K75UAg7BjWc5"
      },
      "source": [
        "## Testing"
      ]
    },
    {
      "cell_type": "code",
      "metadata": {
        "id": "anQHyLFgjWc5"
      },
      "source": [
        "X_test = np.load(\"np/256_192_test.npy\")"
      ],
      "execution_count": null,
      "outputs": []
    },
    {
      "cell_type": "code",
      "metadata": {
        "id": "ObUit1btjWc5"
      },
      "source": [
        "y_test = np.load(\"np/test_labels.npy\")\n",
        "y_test = to_categorical(y_test)"
      ],
      "execution_count": null,
      "outputs": []
    },
    {
      "cell_type": "code",
      "metadata": {
        "colab": {
          "base_uri": "https://localhost:8080/"
        },
        "id": "qhjPc-pUjWc5",
        "outputId": "448a24c3-b2ca-4f85-a64b-3ebeb3759f6e"
      },
      "source": [
        "loss_test, acc_test = model.evaluate(X_test, y_test, verbose=1)\n",
        "print(\"Test: accuracy = %f  ;  loss = %f\" % (acc_test, loss_test))"
      ],
      "execution_count": null,
      "outputs": [
        {
          "output_type": "stream",
          "text": [
            "32/32 [==============================] - 6s 189ms/step - loss: 0.7215 - acc: 0.8473\n",
            "Test: accuracy = 0.847305  ;  loss = 0.721458\n"
          ],
          "name": "stdout"
        }
      ]
    },
    {
      "cell_type": "code",
      "metadata": {
        "id": "AkrYuiJ6jWc6"
      },
      "source": [
        "model.save(\"VGG16.h5\")"
      ],
      "execution_count": null,
      "outputs": []
    },
    {
      "cell_type": "code",
      "metadata": {
        "colab": {
          "base_uri": "https://localhost:8080/",
          "height": 87
        },
        "id": "sQ7ro4DojWc6",
        "outputId": "e9f413bb-8d61-455f-d3f0-ab42694abcd8"
      },
      "source": [
        "# Retrieve a list of accuracy results on training and test data\n",
        "# sets for each training epoch\n",
        "acc = history.history['acc']\n",
        "val_acc = history.history['val_acc']\n",
        "\n",
        "# Retrieve a list of list results on training and test data\n",
        "# sets for each training epoch\n",
        "loss = history.history['loss']\n",
        "val_loss = history.history['val_loss']\n",
        "\n",
        "# Get number of epochs\n",
        "epochs = range(len(acc))\n",
        "\n",
        "# Plot training and validation accuracy per epoch\n",
        "plt.plot(epochs, acc, label = \"training\")\n",
        "plt.plot(epochs, val_acc, label = \"validation\")\n",
        "plt.legend(loc=\"upper left\")\n",
        "plt.title('Training and validation accuracy')\n",
        "\n",
        "plt.figure()\n",
        "\n",
        "# Plot training and validation loss per epoch\n",
        "plt.plot(epochs, loss, label = \"training\")\n",
        "plt.plot(epochs, val_loss, label = \"validation\")\n",
        "plt.legend(loc=\"upper right\")\n",
        "plt.title('Training and validation loss')"
      ],
      "execution_count": null,
      "outputs": [
        {
          "output_type": "execute_result",
          "data": {
            "text/plain": [
              "Text(0.5, 1.0, 'Training and validation loss')"
            ]
          },
          "metadata": {
            "tags": []
          },
          "execution_count": 28
        },
        {
          "output_type": "display_data",
          "data": {
            "image/png": "[encoded data removed]",
            "text/plain": [
              "<Figure size 432x288 with 1 Axes>"
            ]
          },
          "metadata": {
            "tags": [],
            "needs_background": "light"
          }
        },
        {
          "output_type": "display_data",
          "data": {
            "image/png": "[encoded data removed]",
            "text/plain": [
              "<Figure size 432x288 with 1 Axes>"
            ]
          },
          "metadata": {
            "tags": [],
            "needs_background": "light"
          }
        }
      ]
    }
  ]
}